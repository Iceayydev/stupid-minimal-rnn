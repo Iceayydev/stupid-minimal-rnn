{
 "cells": [
  {
   "cell_type": "code",
   "execution_count": null,
   "metadata": {},
   "outputs": [],
   "source": [
    "import os\n",
    "import csv\n",
    "import numpy as np\n",
    "from matplotlib import pyplot as plt"
   ]
  },
  {
   "cell_type": "code",
   "execution_count": null,
   "metadata": {},
   "outputs": [],
   "source": [
    "fig, ax = plt.subplots()\n",
    "coords_x = []\n",
    "coords_y = []\n",
    "\n",
    "plt.ylabel(\"Loss\")\n",
    "plt.xlabel(\"Epoch\")\n",
    "\n",
    "for item in os.listdir(\"data/loss/\"):\n",
    "    x = [] \n",
    "    y = []\n",
    "\n",
    "    with open(f\"data/loss/{item}\", \"r\", newline=\"\") as csvfile:\n",
    "        reader = csv.DictReader(csvfile)\n",
    "        for row in reader:\n",
    "            epoch = (int(row[\"epoch\"])+1)\n",
    "            loss = (float(row[\"loss\"]))\n",
    "\n",
    "            coords_x.append(epoch)\n",
    "            coords_y.append(epoch)\n",
    "\n",
    "            x.append(epoch)\n",
    "            y.append(loss)\n",
    "\n",
    "    ax.scatter(x,y,alpha=0.2,c=[\"#1f77b4\"])"
   ]
  }
 ],
 "metadata": {
  "kernelspec": {
   "display_name": "Python 3",
   "language": "python",
   "name": "python3"
  },
  "language_info": {
   "codemirror_mode": {
    "name": "ipython",
    "version": 3
   },
   "file_extension": ".py",
   "mimetype": "text/x-python",
   "name": "python",
   "nbconvert_exporter": "python",
   "pygments_lexer": "ipython3",
   "version": "3.9.5"
  },
  "orig_nbformat": 4
 },
 "nbformat": 4,
 "nbformat_minor": 2
}
